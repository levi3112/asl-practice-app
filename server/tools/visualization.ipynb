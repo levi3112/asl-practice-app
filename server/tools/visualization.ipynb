{
 "cells": [
  {
   "cell_type": "markdown",
   "id": "46b4bb14",
   "metadata": {
    "id": "46b4bb14",
    "papermill": {
     "duration": 0.004351,
     "end_time": "2023-02-24T17:33:35.543613",
     "exception": false,
     "start_time": "2023-02-24T17:33:35.539262",
     "status": "completed"
    },
    "tags": []
   },
   "source": [
    "# The Purpose of This Notebook\n",
    "* My goal in this notebook is to show a basic visualization of the coordinate data given to us.\n",
    "* I find that a graph can be far easier to read than an array of numbers, and I hope it will be insightful to you as well.\n",
    "* In version 3 I have stabilized the displayed video to reduce jitter and make movement more clear."
   ]
  },
  {
   "cell_type": "code",
   "execution_count": null,
   "id": "a6c7d85e",
   "metadata": {},
   "outputs": [],
   "source": [
    "%pip install pandas\n",
    "%pip install matplotlib\n",
    "%pip install fastparquet\n",
    "%pip install ffmpeg-python"
   ]
  },
  {
   "cell_type": "code",
   "execution_count": null,
   "id": "60d988b7",
   "metadata": {},
   "outputs": [],
   "source": [
    "import os\n",
    "os.environ[\"PATH\"] += os.pathsep + \"/opt/homebrew/bin\"\n",
    "\n",
    "!which ffmpeg"
   ]
  },
  {
   "cell_type": "code",
   "execution_count": 39,
   "id": "b751acbd",
   "metadata": {
    "_cell_guid": "b1076dfc-b9ad-4769-8c92-a6c4dae69d19",
    "_uuid": "8f2839f25d086af736a60e9eeb907d3b93b6e0e5",
    "execution": {
     "iopub.execute_input": "2023-02-24T17:33:35.552894Z",
     "iopub.status.busy": "2023-02-24T17:33:35.551937Z",
     "iopub.status.idle": "2023-02-24T17:33:35.831743Z",
     "shell.execute_reply": "2023-02-24T17:33:35.830598Z"
    },
    "executionInfo": {
     "elapsed": 1010,
     "status": "ok",
     "timestamp": 1733812808647,
     "user": {
      "displayName": "Yosuke Hanaoka",
      "userId": "17488598372941837870"
     },
     "user_tz": 480
    },
    "id": "b751acbd",
    "papermill": {
     "duration": 0.287736,
     "end_time": "2023-02-24T17:33:35.834735",
     "exception": false,
     "start_time": "2023-02-24T17:33:35.546999",
     "status": "completed"
    },
    "tags": []
   },
   "outputs": [],
   "source": [
    "import pandas as pd\n",
    "import matplotlib.pyplot as plt\n",
    "from matplotlib.animation import FuncAnimation\n",
    "from IPython.display import HTML\n",
    "import os\n",
    "os.environ[\"PATH\"] += os.pathsep + \"/opt/homebrew/bin/ffmpeg/bin\"\n"
   ]
  },
  {
   "cell_type": "code",
   "execution_count": 40,
   "id": "7a3a4ed2",
   "metadata": {},
   "outputs": [],
   "source": [
    "## Change this directory to any file\n",
    "path_to_sign = '../sample-data/another.parquet'\n",
    "sign = pd.read_parquet(path_to_sign)\n",
    "sign.y = sign.y * -1"
   ]
  },
  {
   "cell_type": "code",
   "execution_count": 41,
   "id": "f482fda9",
   "metadata": {
    "execution": {
     "iopub.execute_input": "2023-02-24T17:33:36.021596Z",
     "iopub.status.busy": "2023-02-24T17:33:36.020522Z",
     "iopub.status.idle": "2023-02-24T17:33:36.047436Z",
     "shell.execute_reply": "2023-02-24T17:33:36.046579Z"
    },
    "executionInfo": {
     "elapsed": 130,
     "status": "ok",
     "timestamp": 1733812815984,
     "user": {
      "displayName": "Yosuke Hanaoka",
      "userId": "17488598372941837870"
     },
     "user_tz": 480
    },
    "id": "f482fda9",
    "papermill": {
     "duration": 0.034027,
     "end_time": "2023-02-24T17:33:36.049991",
     "exception": false,
     "start_time": "2023-02-24T17:33:36.015964",
     "status": "completed"
    },
    "tags": []
   },
   "outputs": [],
   "source": [
    "def get_hand_points(hand):\n",
    "    x = [[hand.iloc[0].x, hand.iloc[1].x, hand.iloc[2].x, hand.iloc[3].x, hand.iloc[4].x], # Thumb\n",
    "         [hand.iloc[5].x, hand.iloc[6].x, hand.iloc[7].x, hand.iloc[8].x], # Index\n",
    "         [hand.iloc[9].x, hand.iloc[10].x, hand.iloc[11].x, hand.iloc[12].x],\n",
    "         [hand.iloc[13].x, hand.iloc[14].x, hand.iloc[15].x, hand.iloc[16].x],\n",
    "         [hand.iloc[17].x, hand.iloc[18].x, hand.iloc[19].x, hand.iloc[20].x],\n",
    "         [hand.iloc[0].x, hand.iloc[5].x, hand.iloc[9].x, hand.iloc[13].x, hand.iloc[17].x, hand.iloc[0].x]]\n",
    "\n",
    "    y = [[hand.iloc[0].y, hand.iloc[1].y, hand.iloc[2].y, hand.iloc[3].y, hand.iloc[4].y],  #Thumb\n",
    "         [hand.iloc[5].y, hand.iloc[6].y, hand.iloc[7].y, hand.iloc[8].y], # Index\n",
    "         [hand.iloc[9].y, hand.iloc[10].y, hand.iloc[11].y, hand.iloc[12].y],\n",
    "         [hand.iloc[13].y, hand.iloc[14].y, hand.iloc[15].y, hand.iloc[16].y],\n",
    "         [hand.iloc[17].y, hand.iloc[18].y, hand.iloc[19].y, hand.iloc[20].y],\n",
    "         [hand.iloc[0].y, hand.iloc[5].y, hand.iloc[9].y, hand.iloc[13].y, hand.iloc[17].y, hand.iloc[0].y]]\n",
    "    return x, y\n",
    "\n",
    "def get_pose_points(pose):\n",
    "    x = [[pose.iloc[8].x, pose.iloc[6].x, pose.iloc[5].x, pose.iloc[4].x, pose.iloc[0].x, pose.iloc[1].x, pose.iloc[2].x, pose.iloc[3].x, pose.iloc[7].x],\n",
    "         [pose.iloc[10].x, pose.iloc[9].x],\n",
    "         [pose.iloc[22].x, pose.iloc[16].x, pose.iloc[20].x, pose.iloc[18].x, pose.iloc[16].x, pose.iloc[14].x, pose.iloc[12].x,\n",
    "          pose.iloc[11].x, pose.iloc[13].x, pose.iloc[15].x, pose.iloc[17].x, pose.iloc[19].x, pose.iloc[15].x, pose.iloc[21].x],\n",
    "         [pose.iloc[12].x, pose.iloc[24].x, pose.iloc[26].x, pose.iloc[28].x, pose.iloc[30].x, pose.iloc[32].x, pose.iloc[28].x],\n",
    "         [pose.iloc[11].x, pose.iloc[23].x, pose.iloc[25].x, pose.iloc[27].x, pose.iloc[29].x, pose.iloc[31].x, pose.iloc[27].x],\n",
    "         [pose.iloc[24].x, pose.iloc[23].x]\n",
    "        ]\n",
    "\n",
    "    y = [[pose.iloc[8].y, pose.iloc[6].y, pose.iloc[5].y, pose.iloc[4].y, pose.iloc[0].y, pose.iloc[1].y, pose.iloc[2].y, pose.iloc[3].y, pose.iloc[7].y],\n",
    "         [pose.iloc[10].y, pose.iloc[9].y],\n",
    "         [pose.iloc[22].y, pose.iloc[16].y, pose.iloc[20].y, pose.iloc[18].y, pose.iloc[16].y, pose.iloc[14].y, pose.iloc[12].y,\n",
    "          pose.iloc[11].y, pose.iloc[13].y, pose.iloc[15].y, pose.iloc[17].y, pose.iloc[19].y, pose.iloc[15].y, pose.iloc[21].y],\n",
    "         [pose.iloc[12].y, pose.iloc[24].y, pose.iloc[26].y, pose.iloc[28].y, pose.iloc[30].y, pose.iloc[32].y, pose.iloc[28].y],\n",
    "         [pose.iloc[11].y, pose.iloc[23].y, pose.iloc[25].y, pose.iloc[27].y, pose.iloc[29].y, pose.iloc[31].y, pose.iloc[27].y],\n",
    "         [pose.iloc[24].y, pose.iloc[23].y]\n",
    "        ]\n",
    "    return x, y"
   ]
  },
  {
   "cell_type": "markdown",
   "id": "5a3e4e2a",
   "metadata": {
    "id": "5a3e4e2a",
    "papermill": {
     "duration": 0.003051,
     "end_time": "2023-02-24T17:33:36.056380",
     "exception": false,
     "start_time": "2023-02-24T17:33:36.053329",
     "status": "completed"
    },
    "tags": []
   },
   "source": [
    "### This animation shows the entire body and uses all points available in each frame's data.\n",
    "* The points for hands and pose were connected using information from mediapipe.\n",
    "* The face is simply shown as dots on their respective coordinates.\n",
    "* Link to pose article: https://google.github.io/mediapipe/solutions/pose.html\n",
    "* Link to hands article: https://google.github.io/mediapipe/solutions/hands.html"
   ]
  },
  {
   "cell_type": "code",
   "execution_count": null,
   "id": "79679d54",
   "metadata": {
    "colab": {
     "base_uri": "https://localhost:8080/",
     "height": 914
    },
    "execution": {
     "iopub.execute_input": "2023-02-24T17:33:36.065166Z",
     "iopub.status.busy": "2023-02-24T17:33:36.064024Z",
     "iopub.status.idle": "2023-02-24T17:33:39.188468Z",
     "shell.execute_reply": "2023-02-24T17:33:39.187322Z"
    },
    "executionInfo": {
     "elapsed": 4972,
     "status": "ok",
     "timestamp": 1733812826937,
     "user": {
      "displayName": "Yosuke Hanaoka",
      "userId": "17488598372941837870"
     },
     "user_tz": 480
    },
    "id": "79679d54",
    "outputId": "32a62271-65a2-4328-fbe0-8daee8a0a90e",
    "papermill": {
     "duration": 3.131699,
     "end_time": "2023-02-24T17:33:39.191209",
     "exception": false,
     "start_time": "2023-02-24T17:33:36.059510",
     "status": "completed"
    },
    "tags": []
   },
   "outputs": [],
   "source": [
    "def animation_frame(f):\n",
    "    frame = sign[sign.frame==f]\n",
    "    left = frame[frame.type=='left_hand']\n",
    "    right = frame[frame.type=='right_hand']\n",
    "    pose = frame[frame.type=='pose']\n",
    "    face = frame[frame.type=='face'][['x', 'y']].values\n",
    "    lx, ly = get_hand_points(left)\n",
    "    rx, ry = get_hand_points(right)\n",
    "    px, py = get_pose_points(pose)\n",
    "    ax.clear()\n",
    "    ax.plot(face[:,0], face[:,1], '.')\n",
    "    for i in range(len(lx)):\n",
    "        ax.plot(lx[i], ly[i])\n",
    "    for i in range(len(rx)):\n",
    "        ax.plot(rx[i], ry[i])\n",
    "    for i in range(len(px)):\n",
    "        ax.plot(px[i], py[i])\n",
    "    plt.xlim(xmin, xmax)\n",
    "    plt.ylim(ymin, ymax)\n",
    "\n",
    "# print(f\"The sign being shown here is: {train[train.path==f'{path_to_sign}'].sign.values[0]}\")\n",
    "\n",
    "## These values set the limits on the graph to stabilize the video\n",
    "xmin = sign.x.min() - 0.2\n",
    "xmax = sign.x.max() + 0.2\n",
    "ymin = sign.y.min() - 0.2\n",
    "ymax = sign.y.max() + 0.2\n",
    "\n",
    "fig, ax = plt.subplots()\n",
    "l, = ax.plot([], [])\n",
    "animation = FuncAnimation(fig, func=animation_frame, frames=sign.frame.unique())\n",
    "\n",
    "HTML(animation.to_html5_video())"
   ]
  }
 ],
 "metadata": {
  "colab": {
   "provenance": []
  },
  "kernelspec": {
   "display_name": "3.11.11",
   "language": "python",
   "name": "python3"
  },
  "language_info": {
   "codemirror_mode": {
    "name": "ipython",
    "version": 3
   },
   "file_extension": ".py",
   "mimetype": "text/x-python",
   "name": "python",
   "nbconvert_exporter": "python",
   "pygments_lexer": "ipython3",
   "version": "3.11.11"
  },
  "papermill": {
   "default_parameters": {},
   "duration": 16.003202,
   "end_time": "2023-02-24T17:33:42.077391",
   "environment_variables": {},
   "exception": null,
   "input_path": "__notebook__.ipynb",
   "output_path": "__notebook__.ipynb",
   "parameters": {},
   "start_time": "2023-02-24T17:33:26.074189",
   "version": "2.3.4"
  }
 },
 "nbformat": 4,
 "nbformat_minor": 5
}
